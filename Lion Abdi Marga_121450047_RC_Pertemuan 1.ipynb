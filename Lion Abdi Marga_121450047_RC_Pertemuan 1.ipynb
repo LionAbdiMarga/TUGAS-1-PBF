{
  "cells": [
    {
      "cell_type": "markdown",
      "metadata": {},
      "source": [
        "**1. Jelaskan menggunakan tabel mengenai kelebihan dan kekurangan paradigma procedural dibandingkan dengan object oriented (minimal 3) !**"
      ]
    },
    {
      "cell_type": "markdown",
      "metadata": {},
      "source": [
        "|Paradigma Prosedural|   |Paradigma Object Oriented| \n",
        "|--------------------|   |-------------------------| \n",
        "|data memiliki sifat yang pasif|   |objek bersifat aktif| \n",
        "|penyelesaian dalam bentuk prosedur atau fungsi|   |penyelesaian bekerjasama dengan objek-objeknya|\n",
        "|program terbagi yang disebut dengan fungsi|   |program terbagi yang disebut objek|\n",
        "|fungsi dan prosedur menjadi fokus utama|   |funsi dana data menjadi satu (bukan dua hal terpisah)| "
      ]
    },
    {
      "cell_type": "markdown",
      "metadata": {},
      "source": [
        "**2. Jelaskan menggunakan tabel mengenai kelebihan dan kekurangan\n",
        "paradigma object oriented dibandingkan dengan functional (minimal 3) !**"
      ]
    },
    {
      "cell_type": "code",
      "execution_count": null,
      "metadata": {
        "trusted": true,
        "vscode": {
          "languageId": "python"
        }
      },
      "outputs": [],
      "source": [
        "|Paradigma Fungsional|  |Paradigma Object Oriented| \n",
        "| -------------------|  |-------------------------|\n",
        "|membuat program menjadi lebih modular|  |memudahkan manajemen kode karena gaya coding modular|\n",
        "|sulit digunakan bagi pemula|  | membuat pengolahan data yang mudah dipahami dikarenakan sama dengan objek real-word|\n",
        "|membantu proses debug menjadi lebih cepat|  |potensi besar melakukan generalisasi yang berlebihan|"
      ]
    },
    {
      "cell_type": "markdown",
      "metadata": {},
      "source": [
        "**3. Jelaskan menggunakan tabel mengenai kelebihan dan kekurangan\n",
        "paradigma procedural dibandingkan dengan functional (minimal 3) !**"
      ]
    },
    {
      "cell_type": "code",
      "execution_count": null,
      "metadata": {
        "trusted": true,
        "vscode": {
          "languageId": "python"
        }
      },
      "outputs": [],
      "source": [
        "|Paradigma procedural|  |Paradigma fungsional| \n",
        "|--------------------|  |--------------------|\n",
        "|kode bisa tidak readable dalam permasalahan kompleks|  ketika sistem yang ada sudah kompleks menjadi tidak readable|\n",
        "|pengeimplementasian algoritma lebih mudah|  |agak sulit dalam pengimplementasian|\n",
        "|flow step by step akan mudah dibaca|  |function menjadi lebih reusable|"
      ]
    },
    {
      "cell_type": "markdown",
      "metadata": {},
      "source": [
        "**4. Apa yang dimaksud dengan pure functional programming language?**"
      ]
    },
    {
      "cell_type": "markdown",
      "metadata": {},
      "source": [
        "Pure dunctional programming language atau disebut juga dengan fungsi pemrograman murni berbededa dengan pemrograman fungsisonal biasa yang mana dalam fungsi pemrograman murni hanyalah bahasa diamana suatu fungsi tidak dapat menagamati hal-hal selain inputnya."
      ]
    },
    {
      "cell_type": "markdown",
      "metadata": {},
      "source": [
        "**5. Dari bahasa pemrograman FP di slide sebelumnya ( slide 14 ) , manakah\n",
        "yang termasuk pure functional programming language?**"
      ]
    },
    {
      "cell_type": "markdown",
      "metadata": {},
      "source": [
        "yang termasuk pure functional programming language yaitu haskell."
      ]
    },
    {
      "cell_type": "markdown",
      "metadata": {},
      "source": [
        "**6. Membuat program Simple Password encryption, dengan ketentuan**\n",
        "\n",
        "*1. Input password bertipe string dengan batasan panjang password\n",
        "100 karakter*\n",
        "\n",
        "*2. Setiap karakter dari string tersebut diubah menjadi ASCII value*\n",
        "\n",
        "*3. Kemudian setiap ASCII value tersebut dikembangkan menjadi 3\n",
        "value dengan dilakukan operasi berikut:*\n",
        "1. Value pertama dibagi dengan integer 26 kemudian\n",
        "dibulatkan dan dijumlahkan dengan 80 kemudian diubah\n",
        "kembali menjadi karakter\n",
        "2. Value kedua dihitung sisa bagi dengan 26 kemudian\n",
        "dijumlahkan dengan 80 kemudian diubah kembali menjadi\n",
        "karakter\n",
        "3. Value ketiga adalah karakter ‘+’ jika value pertama lebih\n",
        "besar dari value kedua, atau value ketiga adalah karakter ‘-’\n",
        "jika value pertama tidak lebih besar dari value kedua\n",
        "\n",
        "*4. Deretkan value pertama, kedua dan ketiga untuk setiap karakter\n",
        "dalam password tersebut sehingga didapatkan password dalam\n",
        "bentuk baru*"
      ]
    },
    {
      "cell_type": "code",
      "execution_count": null,
      "metadata": {
        "trusted": true,
        "vscode": {
          "languageId": "python"
        }
      },
      "outputs": [],
      "source": [
        "from functools import reduce"
      ]
    },
    {
      "cell_type": "code",
      "execution_count": null,
      "metadata": {
        "vscode": {
          "languageId": "python"
        }
      },
      "outputs": [],
      "source": [
        "def caesar_encrypt(password):\n",
        "    ascii_values = [ord(char) for char in password]\n",
        "    encrypt_values = [(chr((value//26)+80), chr(value%26+80), '+' if value//26 > value%26 else '-') for value in ascii_values]\n",
        "    encrypted_password = reduce(lambda acc, val: acc+val[0]+val[1]+val[2], encrypt_values, '')\n",
        "    return encrypted_password"
      ]
    },
    {
      "cell_type": "code",
      "execution_count": null,
      "metadata": {
        "vscode": {
          "languageId": "python"
        }
      },
      "outputs": [],
      "source": [
        "password = input(\"Masukkan password: \")"
      ]
    },
    {
      "cell_type": "code",
      "execution_count": null,
      "metadata": {
        "vscode": {
          "languageId": "python"
        }
      },
      "outputs": [],
      "source": [
        "encrypted_password = caesar_encrypt(password)"
      ]
    },
    {
      "cell_type": "code",
      "execution_count": null,
      "metadata": {
        "vscode": {
          "languageId": "python"
        }
      },
      "outputs": [],
      "source": [
        "print(\"Password: \", password)"
      ]
    },
    {
      "cell_type": "code",
      "execution_count": null,
      "metadata": {
        "vscode": {
          "languageId": "python"
        }
      },
      "outputs": [],
      "source": [
        "print(\"Password Terenkripsi: \", encrypted_password)"
      ]
    }
  ],
  "metadata": {
    "kernelspec": {
      "display_name": "Python (Pyodide)",
      "language": "python",
      "name": "python"
    },
    "language_info": {
      "name": ""
    }
  },
  "nbformat": 4,
  "nbformat_minor": 4
}
